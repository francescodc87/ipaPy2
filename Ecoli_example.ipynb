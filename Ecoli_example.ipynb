{
 "cells": [
  {
   "cell_type": "markdown",
   "id": "7979b40c",
   "metadata": {},
   "source": [
    "# *E. coli* example\n"
   ]
  },
  {
   "cell_type": "markdown",
   "id": "1b4c8264",
   "metadata": {},
   "source": [
    "In the paper where the first version of the IPA method was initially presented ([Del Carratore et al., 2019](https://pubs.acs.org/doi/full/10.1021/acs.analchem.9b02354)), an LC/MS-based untargeted metabolomics experiment on *Escherichia coli* extract was introduced to test the method in real-life conditions.\n",
    "The new version of the IPA method was applied to the datasets (positive and negative) obtained from this experiment."
   ]
  },
  {
   "cell_type": "markdown",
   "id": "1d7e02d1",
   "metadata": {},
   "source": [
    "## Positive dataset\n",
    "The positive dataset can be found within this library:"
   ]
  },
  {
   "cell_type": "code",
   "execution_count": 1,
   "id": "dd874a05",
   "metadata": {},
   "outputs": [
    {
     "data": {
      "text/html": [
       "<div>\n",
       "<style scoped>\n",
       "    .dataframe tbody tr th:only-of-type {\n",
       "        vertical-align: middle;\n",
       "    }\n",
       "\n",
       "    .dataframe tbody tr th {\n",
       "        vertical-align: top;\n",
       "    }\n",
       "\n",
       "    .dataframe thead th {\n",
       "        text-align: right;\n",
       "    }\n",
       "</style>\n",
       "<table border=\"1\" class=\"dataframe\">\n",
       "  <thead>\n",
       "    <tr style=\"text-align: right;\">\n",
       "      <th></th>\n",
       "      <th>ids</th>\n",
       "      <th>rel.ids</th>\n",
       "      <th>mzs</th>\n",
       "      <th>RTs</th>\n",
       "      <th>Int</th>\n",
       "    </tr>\n",
       "  </thead>\n",
       "  <tbody>\n",
       "    <tr>\n",
       "      <th>7</th>\n",
       "      <td>2</td>\n",
       "      <td>1</td>\n",
       "      <td>116.070580</td>\n",
       "      <td>42.663120</td>\n",
       "      <td>4.527300e+09</td>\n",
       "    </tr>\n",
       "    <tr>\n",
       "      <th>8</th>\n",
       "      <td>54</td>\n",
       "      <td>1</td>\n",
       "      <td>117.073749</td>\n",
       "      <td>42.766938</td>\n",
       "      <td>2.749860e+08</td>\n",
       "    </tr>\n",
       "    <tr>\n",
       "      <th>9</th>\n",
       "      <td>73</td>\n",
       "      <td>1</td>\n",
       "      <td>231.133964</td>\n",
       "      <td>42.565073</td>\n",
       "      <td>2.357108e+08</td>\n",
       "    </tr>\n",
       "    <tr>\n",
       "      <th>10</th>\n",
       "      <td>221</td>\n",
       "      <td>1</td>\n",
       "      <td>70.065249</td>\n",
       "      <td>42.831656</td>\n",
       "      <td>5.957045e+07</td>\n",
       "    </tr>\n",
       "    <tr>\n",
       "      <th>11</th>\n",
       "      <td>484</td>\n",
       "      <td>1</td>\n",
       "      <td>118.074696</td>\n",
       "      <td>42.758915</td>\n",
       "      <td>2.231783e+07</td>\n",
       "    </tr>\n",
       "    <tr>\n",
       "      <th>12</th>\n",
       "      <td>2842</td>\n",
       "      <td>1</td>\n",
       "      <td>71.068563</td>\n",
       "      <td>42.741755</td>\n",
       "      <td>2.621352e+06</td>\n",
       "    </tr>\n",
       "  </tbody>\n",
       "</table>\n",
       "</div>"
      ],
      "text/plain": [
       "     ids  rel.ids         mzs        RTs           Int\n",
       "7      2        1  116.070580  42.663120  4.527300e+09\n",
       "8     54        1  117.073749  42.766938  2.749860e+08\n",
       "9     73        1  231.133964  42.565073  2.357108e+08\n",
       "10   221        1   70.065249  42.831656  5.957045e+07\n",
       "11   484        1  118.074696  42.758915  2.231783e+07\n",
       "12  2842        1   71.068563  42.741755  2.621352e+06"
      ]
     },
     "execution_count": 1,
     "metadata": {},
     "output_type": "execute_result"
    }
   ],
   "source": [
    "import pandas as pd\n",
    "dfpos = pd.read_csv('ExampleDatasets/Ecoli/Ecoli_pos.csv')\n",
    "dfpos[dfpos['rel.ids']==1]"
   ]
  },
  {
   "cell_type": "markdown",
   "id": "b4a77d08",
   "metadata": {},
   "source": [
    "In order to run the method on this dataset, it is necessary to load the ipaPy2 package, the MS$^1$ database and the adducts information."
   ]
  },
  {
   "cell_type": "code",
   "execution_count": 2,
   "id": "398c0689",
   "metadata": {},
   "outputs": [],
   "source": [
    "from ipaPy2 import ipa\n",
    "DB=pd.read_csv('DB/IPA_MS1.csv')\n",
    "adducts = pd.read_csv('DB/adducts.csv')"
   ]
  },
  {
   "cell_type": "markdown",
   "id": "3883249e",
   "metadata": {},
   "source": [
    "As described in the original paper, a set of standard mixes was analysed with the same analytical setting.\n",
    "Everything learned from theses samples was recorded in the .csv file shown below."
   ]
  },
  {
   "cell_type": "code",
   "execution_count": 3,
   "id": "2c8cb0f4",
   "metadata": {},
   "outputs": [
    {
     "data": {
      "text/html": [
       "<div>\n",
       "<style scoped>\n",
       "    .dataframe tbody tr th:only-of-type {\n",
       "        vertical-align: middle;\n",
       "    }\n",
       "\n",
       "    .dataframe tbody tr th {\n",
       "        vertical-align: top;\n",
       "    }\n",
       "\n",
       "    .dataframe thead th {\n",
       "        text-align: right;\n",
       "    }\n",
       "</style>\n",
       "<table border=\"1\" class=\"dataframe\">\n",
       "  <thead>\n",
       "    <tr style=\"text-align: right;\">\n",
       "      <th></th>\n",
       "      <th>KEGG.id</th>\n",
       "      <th>Name</th>\n",
       "      <th>Names</th>\n",
       "      <th>Formula</th>\n",
       "      <th>monoisotopic.mass</th>\n",
       "      <th>previous.knowledge</th>\n",
       "      <th>Ref</th>\n",
       "      <th>RT</th>\n",
       "      <th>POS.adducts</th>\n",
       "      <th>main.POS.adducts</th>\n",
       "      <th>NEG.adducts</th>\n",
       "      <th>main.NEG.adducts</th>\n",
       "    </tr>\n",
       "  </thead>\n",
       "  <tbody>\n",
       "    <tr>\n",
       "      <th>0</th>\n",
       "      <td>C00025</td>\n",
       "      <td>L-Glutamate</td>\n",
       "      <td>L-Glutamate;L-Glutamic acid;L-Glutaminic acid;...</td>\n",
       "      <td>C5H9N1O4</td>\n",
       "      <td>147.05316</td>\n",
       "      <td>1</td>\n",
       "      <td>Information taken by the single standard injec...</td>\n",
       "      <td>30;60</td>\n",
       "      <td>M+H;M-H2O+H;2M+H;M-NH3+H;M+Na;M+2H</td>\n",
       "      <td>M+H</td>\n",
       "      <td>M-H;M-H2O-H;M-;2M-H;M+K-2H;M-2H;3M-H</td>\n",
       "      <td>M-H</td>\n",
       "    </tr>\n",
       "    <tr>\n",
       "      <th>1</th>\n",
       "      <td>C00031</td>\n",
       "      <td>D-Glucose</td>\n",
       "      <td>D-Glucose;Grape sugar;Dextrose;Glucose;D-Gluco...</td>\n",
       "      <td>C6H12O6</td>\n",
       "      <td>180.06339</td>\n",
       "      <td>1</td>\n",
       "      <td>This compound has been analyses in two standar...</td>\n",
       "      <td>30;60</td>\n",
       "      <td>M+Na;M+H+Na;M+;2M+H;M+2H;M+H</td>\n",
       "      <td>M+Na</td>\n",
       "      <td>M+CH2O2-H;M-H;M+Cl;2M-H;3M-H;M-2H</td>\n",
       "      <td>M+CH2O2-H</td>\n",
       "    </tr>\n",
       "    <tr>\n",
       "      <th>2</th>\n",
       "      <td>C00041</td>\n",
       "      <td>L-Alanine</td>\n",
       "      <td>L-Alanine;L-2-Aminopropionic acid;L-alpha-Alanine</td>\n",
       "      <td>C3H7N1O2</td>\n",
       "      <td>89.04768</td>\n",
       "      <td>1</td>\n",
       "      <td>The standard mix containing has been analyzed ...</td>\n",
       "      <td>20;60</td>\n",
       "      <td>M+H;2M+H;M+Na;M+2Na-H;M+2H</td>\n",
       "      <td>M+H</td>\n",
       "      <td>M-H;M-;2M-H;M-2H;3M-H</td>\n",
       "      <td>M-H</td>\n",
       "    </tr>\n",
       "    <tr>\n",
       "      <th>3</th>\n",
       "      <td>C00042</td>\n",
       "      <td>Succinate</td>\n",
       "      <td>Succinate;Succinic acid;Butanedionic acid;Ethy...</td>\n",
       "      <td>C4H6O4</td>\n",
       "      <td>118.02661</td>\n",
       "      <td>1</td>\n",
       "      <td>Information taken by a standard mix containing...</td>\n",
       "      <td>60;100</td>\n",
       "      <td>M-H2O+H;M+H;M+Na;M-NH3+H;M+CH2+H;2M+Na;M+2H;2M+H</td>\n",
       "      <td>M-H2O+H</td>\n",
       "      <td>M-H;M-;M-H2O-H;2M-H;M-2H;3M-H</td>\n",
       "      <td>M-H</td>\n",
       "    </tr>\n",
       "    <tr>\n",
       "      <th>4</th>\n",
       "      <td>C00062</td>\n",
       "      <td>L-Arginine</td>\n",
       "      <td>L-Arginine;(S)-2-Amino-5-guanidinovaleric acid...</td>\n",
       "      <td>C6H14N4O2</td>\n",
       "      <td>174.11168</td>\n",
       "      <td>1</td>\n",
       "      <td>The standard mix containing has been analyzed ...</td>\n",
       "      <td>20;60</td>\n",
       "      <td>M+H;2M+H;M+Na;M+2H;2M+Na;M+H+K;M+2Na-H</td>\n",
       "      <td>M+H</td>\n",
       "      <td>M-H;2M-H;M-;M-2H;3M-H</td>\n",
       "      <td>M-H</td>\n",
       "    </tr>\n",
       "  </tbody>\n",
       "</table>\n",
       "</div>"
      ],
      "text/plain": [
       "  KEGG.id         Name                                              Names  \\\n",
       "0  C00025  L-Glutamate  L-Glutamate;L-Glutamic acid;L-Glutaminic acid;...   \n",
       "1  C00031    D-Glucose  D-Glucose;Grape sugar;Dextrose;Glucose;D-Gluco...   \n",
       "2  C00041    L-Alanine  L-Alanine;L-2-Aminopropionic acid;L-alpha-Alanine   \n",
       "3  C00042    Succinate  Succinate;Succinic acid;Butanedionic acid;Ethy...   \n",
       "4  C00062   L-Arginine  L-Arginine;(S)-2-Amino-5-guanidinovaleric acid...   \n",
       "\n",
       "     Formula  monoisotopic.mass previous.knowledge  \\\n",
       "0   C5H9N1O4          147.05316                  1   \n",
       "1    C6H12O6          180.06339                  1   \n",
       "2   C3H7N1O2           89.04768                  1   \n",
       "3     C4H6O4          118.02661                  1   \n",
       "4  C6H14N4O2          174.11168                  1   \n",
       "\n",
       "                                                 Ref      RT  \\\n",
       "0  Information taken by the single standard injec...   30;60   \n",
       "1  This compound has been analyses in two standar...   30;60   \n",
       "2  The standard mix containing has been analyzed ...   20;60   \n",
       "3  Information taken by a standard mix containing...  60;100   \n",
       "4  The standard mix containing has been analyzed ...   20;60   \n",
       "\n",
       "                                        POS.adducts main.POS.adducts  \\\n",
       "0                M+H;M-H2O+H;2M+H;M-NH3+H;M+Na;M+2H              M+H   \n",
       "1                      M+Na;M+H+Na;M+;2M+H;M+2H;M+H             M+Na   \n",
       "2                        M+H;2M+H;M+Na;M+2Na-H;M+2H              M+H   \n",
       "3  M-H2O+H;M+H;M+Na;M-NH3+H;M+CH2+H;2M+Na;M+2H;2M+H          M-H2O+H   \n",
       "4            M+H;2M+H;M+Na;M+2H;2M+Na;M+H+K;M+2Na-H              M+H   \n",
       "\n",
       "                            NEG.adducts main.NEG.adducts  \n",
       "0  M-H;M-H2O-H;M-;2M-H;M+K-2H;M-2H;3M-H              M-H  \n",
       "1     M+CH2O2-H;M-H;M+Cl;2M-H;3M-H;M-2H        M+CH2O2-H  \n",
       "2                 M-H;M-;2M-H;M-2H;3M-H              M-H  \n",
       "3         M-H;M-;M-H2O-H;2M-H;M-2H;3M-H              M-H  \n",
       "4                 M-H;2M-H;M-;M-2H;3M-H              M-H  "
      ]
     },
     "execution_count": 3,
     "metadata": {},
     "output_type": "execute_result"
    }
   ],
   "source": [
    "updates = pd.read_csv('ExampleDatasets/Beer/update_based_on_standards.csv')\n",
    "updates.head()"
   ]
  },
  {
   "cell_type": "markdown",
   "id": "95125616",
   "metadata": {},
   "source": [
    "This information can be used in the annotation process by updating the database.\n",
    "With the simple for loop shown below, I can copy the information about retention time and adducts (in positive and negative mode) into the database. The ipaPy2 library can now use this information."
   ]
  },
  {
   "cell_type": "code",
   "execution_count": 4,
   "id": "76dc6600",
   "metadata": {},
   "outputs": [],
   "source": [
    "for k in range(0,len(updates.index)):\n",
    "    DB.iloc[DB['id']==updates.iloc[k,0],5] = updates.iloc[k,7] #commets here\n",
    "    DB.iloc[DB['id']==updates.iloc[k,0],6] = updates.iloc[k,8]\n",
    "    DB.iloc[DB['id']==updates.iloc[k,0],7] = updates.iloc[k,10]"
   ]
  },
  {
   "cell_type": "markdown",
   "id": "933ce887",
   "metadata": {},
   "source": [
    "A dataframe containing all possible biochemical connections among all metabolites present in the IPA_MS1.csv database has been pre-computed and it is available in the library. Using this instead of computing the connections will strongly speed up the pipeline."
   ]
  },
  {
   "cell_type": "code",
   "execution_count": 5,
   "id": "084c8883",
   "metadata": {},
   "outputs": [],
   "source": [
    "Bio = pd.read_csv('DB/allBIO_reactions.csv')"
   ]
  },
  {
   "cell_type": "markdown",
   "id": "066820a5",
   "metadata": {},
   "source": [
    "Finally, we can run the whole pipeline with the simpleIPA() function.\n",
    "\n",
    "WARNING! running the whole pipeline including the Gibbs sampler for such a big dataset/database will take several hours."
   ]
  },
  {
   "cell_type": "code",
   "execution_count": 6,
   "id": "9cc68470",
   "metadata": {},
   "outputs": [
    {
     "name": "stdout",
     "output_type": "stream",
     "text": [
      "mapping isotope patterns ....\n",
      "1.9 seconds elapsed\n",
      "computing all adducts - Parallelized ....\n",
      "17.7 seconds elapsed\n",
      "annotating based on MS1 information - Parallelized ...\n",
      "8.2 seconds elapsed\n",
      "computing posterior probabilities including biochemical and adducts connections\n",
      "initialising sampler ...\n"
     ]
    },
    {
     "name": "stderr",
     "output_type": "stream",
     "text": [
      "Gibbs Sampler Progress Bar: 100%|█████████| 3000/3000 [1:24:26<00:00,  1.69s/it]\n"
     ]
    },
    {
     "name": "stdout",
     "output_type": "stream",
     "text": [
      "parsing results ...\n",
      "Done -  5068.8 seconds elapsed\n"
     ]
    }
   ],
   "source": [
    "annotationsPos = ipa.simpleIPA(df=dfpos,ionisation=1,DB=DB,adductsAll=adducts,ppm=5, Bio=Bio,\n",
    "                            delta_add=0.1,delta_bio=1,noits=3000,ncores=20)"
   ]
  },
  {
   "cell_type": "markdown",
   "id": "8f6b299b",
   "metadata": {},
   "source": [
    "In the original paper ([Del Carratore et al., 2019](https://pubs.acs.org/doi/full/10.1021/acs.analchem.9b02354)), the annotation for the feature associated with id=2 (m/z=116.070580, RT= 42.66s) is shown in [Figure 4](https://pubs.acs.org/cms/10.1021/acs.analchem.9b02354/asset/images/large/ac9b02354_0004.jpeg). For the sake of comparison, the annotation table obtained for the same feature with the new IPA implementation is shown below.\n"
   ]
  },
  {
   "cell_type": "code",
   "execution_count": 7,
   "id": "2ea3a9db",
   "metadata": {},
   "outputs": [
    {
     "data": {
      "text/html": [
       "<div>\n",
       "<style scoped>\n",
       "    .dataframe tbody tr th:only-of-type {\n",
       "        vertical-align: middle;\n",
       "    }\n",
       "\n",
       "    .dataframe tbody tr th {\n",
       "        vertical-align: top;\n",
       "    }\n",
       "\n",
       "    .dataframe thead th {\n",
       "        text-align: right;\n",
       "    }\n",
       "</style>\n",
       "<table border=\"1\" class=\"dataframe\">\n",
       "  <thead>\n",
       "    <tr style=\"text-align: right;\">\n",
       "      <th></th>\n",
       "      <th>id</th>\n",
       "      <th>name</th>\n",
       "      <th>formula</th>\n",
       "      <th>adduct</th>\n",
       "      <th>m/z</th>\n",
       "      <th>charge</th>\n",
       "      <th>RT range</th>\n",
       "      <th>ppm</th>\n",
       "      <th>isotope pattern score</th>\n",
       "      <th>fragmentation pattern score</th>\n",
       "      <th>prior</th>\n",
       "      <th>post</th>\n",
       "      <th>post Gibbs</th>\n",
       "      <th>chi-square pval</th>\n",
       "    </tr>\n",
       "  </thead>\n",
       "  <tbody>\n",
       "    <tr>\n",
       "      <th>0</th>\n",
       "      <td>C00148</td>\n",
       "      <td>L-Proline</td>\n",
       "      <td>C5H10NO2</td>\n",
       "      <td>M+H</td>\n",
       "      <td>116.070605</td>\n",
       "      <td>1</td>\n",
       "      <td>20;70</td>\n",
       "      <td>-0.214542</td>\n",
       "      <td>0.199451</td>\n",
       "      <td>None</td>\n",
       "      <td>0.194710</td>\n",
       "      <td>0.238010</td>\n",
       "      <td>0.938519</td>\n",
       "      <td>0.0</td>\n",
       "    </tr>\n",
       "    <tr>\n",
       "      <th>1</th>\n",
       "      <td>C00763</td>\n",
       "      <td>D-Proline</td>\n",
       "      <td>C5H10NO2</td>\n",
       "      <td>M+H</td>\n",
       "      <td>116.070605</td>\n",
       "      <td>1</td>\n",
       "      <td>None</td>\n",
       "      <td>-0.214542</td>\n",
       "      <td>0.199451</td>\n",
       "      <td>None</td>\n",
       "      <td>0.194710</td>\n",
       "      <td>0.190408</td>\n",
       "      <td>0.035926</td>\n",
       "      <td>0.0</td>\n",
       "    </tr>\n",
       "    <tr>\n",
       "      <th>3</th>\n",
       "      <td>C18170</td>\n",
       "      <td>3-Acetamidopropanal</td>\n",
       "      <td>C5H10NO2</td>\n",
       "      <td>M+H</td>\n",
       "      <td>116.070605</td>\n",
       "      <td>1</td>\n",
       "      <td>None</td>\n",
       "      <td>-0.214542</td>\n",
       "      <td>0.199451</td>\n",
       "      <td>None</td>\n",
       "      <td>0.194710</td>\n",
       "      <td>0.190408</td>\n",
       "      <td>0.012593</td>\n",
       "      <td>0.0</td>\n",
       "    </tr>\n",
       "    <tr>\n",
       "      <th>2</th>\n",
       "      <td>C16435</td>\n",
       "      <td>Proline</td>\n",
       "      <td>C5H10NO2</td>\n",
       "      <td>M+H</td>\n",
       "      <td>116.070605</td>\n",
       "      <td>1</td>\n",
       "      <td>None</td>\n",
       "      <td>-0.214542</td>\n",
       "      <td>0.199451</td>\n",
       "      <td>None</td>\n",
       "      <td>0.194710</td>\n",
       "      <td>0.190408</td>\n",
       "      <td>0.007407</td>\n",
       "      <td>0.0</td>\n",
       "    </tr>\n",
       "    <tr>\n",
       "      <th>4</th>\n",
       "      <td>NPA018555</td>\n",
       "      <td>Pleurocybellaziridin</td>\n",
       "      <td>C5H10NO2</td>\n",
       "      <td>M+H</td>\n",
       "      <td>116.070605</td>\n",
       "      <td>1</td>\n",
       "      <td>None</td>\n",
       "      <td>-0.214542</td>\n",
       "      <td>0.199451</td>\n",
       "      <td>None</td>\n",
       "      <td>0.194710</td>\n",
       "      <td>0.190408</td>\n",
       "      <td>0.005556</td>\n",
       "      <td>0.0</td>\n",
       "    </tr>\n",
       "    <tr>\n",
       "      <th>5</th>\n",
       "      <td>Unknown</td>\n",
       "      <td>Unknown</td>\n",
       "      <td>None</td>\n",
       "      <td>None</td>\n",
       "      <td>None</td>\n",
       "      <td>None</td>\n",
       "      <td>None</td>\n",
       "      <td>5.000000</td>\n",
       "      <td>0.002747</td>\n",
       "      <td>None</td>\n",
       "      <td>0.026448</td>\n",
       "      <td>0.000356</td>\n",
       "      <td>0.000000</td>\n",
       "      <td>0.0</td>\n",
       "    </tr>\n",
       "  </tbody>\n",
       "</table>\n",
       "</div>"
      ],
      "text/plain": [
       "          id                  name   formula adduct         m/z charge  \\\n",
       "0     C00148             L-Proline  C5H10NO2    M+H  116.070605      1   \n",
       "1     C00763             D-Proline  C5H10NO2    M+H  116.070605      1   \n",
       "3     C18170   3-Acetamidopropanal  C5H10NO2    M+H  116.070605      1   \n",
       "2     C16435               Proline  C5H10NO2    M+H  116.070605      1   \n",
       "4  NPA018555  Pleurocybellaziridin  C5H10NO2    M+H  116.070605      1   \n",
       "5    Unknown               Unknown      None   None        None   None   \n",
       "\n",
       "  RT range       ppm  isotope pattern score fragmentation pattern score  \\\n",
       "0    20;70 -0.214542               0.199451                        None   \n",
       "1     None -0.214542               0.199451                        None   \n",
       "3     None -0.214542               0.199451                        None   \n",
       "2     None -0.214542               0.199451                        None   \n",
       "4     None -0.214542               0.199451                        None   \n",
       "5     None  5.000000               0.002747                        None   \n",
       "\n",
       "      prior      post  post Gibbs  chi-square pval  \n",
       "0  0.194710  0.238010    0.938519              0.0  \n",
       "1  0.194710  0.190408    0.035926              0.0  \n",
       "3  0.194710  0.190408    0.012593              0.0  \n",
       "2  0.194710  0.190408    0.007407              0.0  \n",
       "4  0.194710  0.190408    0.005556              0.0  \n",
       "5  0.026448  0.000356    0.000000              0.0  "
      ]
     },
     "execution_count": 7,
     "metadata": {},
     "output_type": "execute_result"
    }
   ],
   "source": [
    "annotationsPos[2]"
   ]
  },
  {
   "cell_type": "markdown",
   "id": "9324c41b",
   "metadata": {},
   "source": [
    "The whole annotation dictonary for this dataset can be saved as a .pickle file."
   ]
  },
  {
   "cell_type": "code",
   "execution_count": 8,
   "id": "284fb087",
   "metadata": {},
   "outputs": [],
   "source": [
    "import pickle\n",
    "file = open(\"ExampleDatasets/Ecoli/annotationsPos.pickle\", \"wb\")\n",
    "pickle.dump(annotationsPos, file)\n",
    "file.close()"
   ]
  },
  {
   "cell_type": "markdown",
   "id": "25a6f0a3",
   "metadata": {},
   "source": [
    "## Negative dataset\n",
    "The negative dataset can also be found within this library:"
   ]
  },
  {
   "cell_type": "code",
   "execution_count": 9,
   "id": "1fdaa83c",
   "metadata": {},
   "outputs": [
    {
     "data": {
      "text/html": [
       "<div>\n",
       "<style scoped>\n",
       "    .dataframe tbody tr th:only-of-type {\n",
       "        vertical-align: middle;\n",
       "    }\n",
       "\n",
       "    .dataframe tbody tr th {\n",
       "        vertical-align: top;\n",
       "    }\n",
       "\n",
       "    .dataframe thead th {\n",
       "        text-align: right;\n",
       "    }\n",
       "</style>\n",
       "<table border=\"1\" class=\"dataframe\">\n",
       "  <thead>\n",
       "    <tr style=\"text-align: right;\">\n",
       "      <th></th>\n",
       "      <th>ids</th>\n",
       "      <th>rel.ids</th>\n",
       "      <th>mzs</th>\n",
       "      <th>RTs</th>\n",
       "      <th>Int</th>\n",
       "    </tr>\n",
       "  </thead>\n",
       "  <tbody>\n",
       "    <tr>\n",
       "      <th>0</th>\n",
       "      <td>1</td>\n",
       "      <td>0</td>\n",
       "      <td>191.018617</td>\n",
       "      <td>56.672309</td>\n",
       "      <td>1.790060e+09</td>\n",
       "    </tr>\n",
       "    <tr>\n",
       "      <th>1</th>\n",
       "      <td>14</td>\n",
       "      <td>0</td>\n",
       "      <td>192.021784</td>\n",
       "      <td>56.628663</td>\n",
       "      <td>1.244214e+08</td>\n",
       "    </tr>\n",
       "    <tr>\n",
       "      <th>2</th>\n",
       "      <td>30</td>\n",
       "      <td>0</td>\n",
       "      <td>111.007146</td>\n",
       "      <td>56.776775</td>\n",
       "      <td>7.138570e+07</td>\n",
       "    </tr>\n",
       "    <tr>\n",
       "      <th>3</th>\n",
       "      <td>75</td>\n",
       "      <td>0</td>\n",
       "      <td>193.022430</td>\n",
       "      <td>56.636817</td>\n",
       "      <td>2.568980e+07</td>\n",
       "    </tr>\n",
       "    <tr>\n",
       "      <th>4</th>\n",
       "      <td>177</td>\n",
       "      <td>0</td>\n",
       "      <td>405.027847</td>\n",
       "      <td>56.930517</td>\n",
       "      <td>1.097692e+07</td>\n",
       "    </tr>\n",
       "  </tbody>\n",
       "</table>\n",
       "</div>"
      ],
      "text/plain": [
       "   ids  rel.ids         mzs        RTs           Int\n",
       "0    1        0  191.018617  56.672309  1.790060e+09\n",
       "1   14        0  192.021784  56.628663  1.244214e+08\n",
       "2   30        0  111.007146  56.776775  7.138570e+07\n",
       "3   75        0  193.022430  56.636817  2.568980e+07\n",
       "4  177        0  405.027847  56.930517  1.097692e+07"
      ]
     },
     "execution_count": 9,
     "metadata": {},
     "output_type": "execute_result"
    }
   ],
   "source": [
    "dfneg = pd.read_csv('ExampleDatasets/Ecoli/Ecoli_neg.csv')\n",
    "dfneg.head()"
   ]
  },
  {
   "cell_type": "markdown",
   "id": "4f546407",
   "metadata": {},
   "source": [
    "This can be annotated with the IPA method in the same way as the positive dataset.\n",
    "\n",
    "WARNING! running the whole pipeline including the Gibbs sampler for such big dataset/database will take several hours."
   ]
  },
  {
   "cell_type": "code",
   "execution_count": 10,
   "id": "25b32df2",
   "metadata": {},
   "outputs": [
    {
     "name": "stdout",
     "output_type": "stream",
     "text": [
      "mapping isotope patterns ....\n",
      "1.6 seconds elapsed\n",
      "computing all adducts - Parallelized ....\n",
      "63.4 seconds elapsed\n",
      "annotating based on MS1 information - Parallelized ...\n",
      "8.8 seconds elapsed\n",
      "computing posterior probabilities including biochemical and adducts connections\n",
      "initialising sampler ...\n"
     ]
    },
    {
     "name": "stderr",
     "output_type": "stream",
     "text": [
      "Gibbs Sampler Progress Bar: 100%|███████████| 3000/3000 [49:29<00:00,  1.01it/s]\n"
     ]
    },
    {
     "name": "stdout",
     "output_type": "stream",
     "text": [
      "parsing results ...\n",
      "Done -  2971.4 seconds elapsed\n"
     ]
    }
   ],
   "source": [
    "annotationsNeg = ipa.simpleIPA(df=dfneg,ionisation=-1,DB=DB,adductsAll=adducts,ppm=10,Bio=Bio,\n",
    "                            delta_add=0.1,delta_bio=1,noits=3000,ncores=20)"
   ]
  },
  {
   "cell_type": "markdown",
   "id": "708f0722",
   "metadata": {},
   "source": [
    "The whole annotation dictionary for this dataset can be saved as a .pickle file."
   ]
  },
  {
   "cell_type": "code",
   "execution_count": 11,
   "id": "0a92a83f",
   "metadata": {},
   "outputs": [],
   "source": [
    "file = open(\"ExampleDatasets/Ecoli/annotationsNeg.pickle\", \"wb\")\n",
    "pickle.dump(annotationsNeg, file)\n",
    "file.close()"
   ]
  }
 ],
 "metadata": {
  "kernelspec": {
   "display_name": "Python 3 (ipykernel)",
   "language": "python",
   "name": "python3"
  },
  "language_info": {
   "codemirror_mode": {
    "name": "ipython",
    "version": 3
   },
   "file_extension": ".py",
   "mimetype": "text/x-python",
   "name": "python",
   "nbconvert_exporter": "python",
   "pygments_lexer": "ipython3",
   "version": "3.10.9"
  }
 },
 "nbformat": 4,
 "nbformat_minor": 5
}
