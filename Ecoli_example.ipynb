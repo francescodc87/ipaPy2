{
 "cells": [
  {
   "cell_type": "markdown",
   "id": "7979b40c",
   "metadata": {},
   "source": [
    "# *E. coli* example\n"
   ]
  },
  {
   "cell_type": "markdown",
   "id": "1b4c8264",
   "metadata": {},
   "source": [
    "bla bla"
   ]
  },
  {
   "cell_type": "markdown",
   "id": "1d7e02d1",
   "metadata": {},
   "source": [
    "## Positive dataset"
   ]
  },
  {
   "cell_type": "code",
   "execution_count": 5,
   "id": "dd874a05",
   "metadata": {},
   "outputs": [
    {
     "data": {
      "text/html": [
       "<div>\n",
       "<style scoped>\n",
       "    .dataframe tbody tr th:only-of-type {\n",
       "        vertical-align: middle;\n",
       "    }\n",
       "\n",
       "    .dataframe tbody tr th {\n",
       "        vertical-align: top;\n",
       "    }\n",
       "\n",
       "    .dataframe thead th {\n",
       "        text-align: right;\n",
       "    }\n",
       "</style>\n",
       "<table border=\"1\" class=\"dataframe\">\n",
       "  <thead>\n",
       "    <tr style=\"text-align: right;\">\n",
       "      <th></th>\n",
       "      <th>ids</th>\n",
       "      <th>rel.ids</th>\n",
       "      <th>mzs</th>\n",
       "      <th>RTs</th>\n",
       "      <th>Int</th>\n",
       "    </tr>\n",
       "  </thead>\n",
       "  <tbody>\n",
       "    <tr>\n",
       "      <th>0</th>\n",
       "      <td>1</td>\n",
       "      <td>0</td>\n",
       "      <td>118.086134</td>\n",
       "      <td>49.714551</td>\n",
       "      <td>6.790837e+09</td>\n",
       "    </tr>\n",
       "    <tr>\n",
       "      <th>1</th>\n",
       "      <td>18</td>\n",
       "      <td>0</td>\n",
       "      <td>235.165082</td>\n",
       "      <td>49.876257</td>\n",
       "      <td>6.472463e+08</td>\n",
       "    </tr>\n",
       "    <tr>\n",
       "      <th>2</th>\n",
       "      <td>26</td>\n",
       "      <td>0</td>\n",
       "      <td>72.080827</td>\n",
       "      <td>50.061772</td>\n",
       "      <td>4.923269e+08</td>\n",
       "    </tr>\n",
       "    <tr>\n",
       "      <th>3</th>\n",
       "      <td>37</td>\n",
       "      <td>0</td>\n",
       "      <td>119.089215</td>\n",
       "      <td>49.830899</td>\n",
       "      <td>4.108793e+08</td>\n",
       "    </tr>\n",
       "    <tr>\n",
       "      <th>4</th>\n",
       "      <td>171</td>\n",
       "      <td>0</td>\n",
       "      <td>236.168382</td>\n",
       "      <td>49.892981</td>\n",
       "      <td>7.445059e+07</td>\n",
       "    </tr>\n",
       "  </tbody>\n",
       "</table>\n",
       "</div>"
      ],
      "text/plain": [
       "   ids  rel.ids         mzs        RTs           Int\n",
       "0    1        0  118.086134  49.714551  6.790837e+09\n",
       "1   18        0  235.165082  49.876257  6.472463e+08\n",
       "2   26        0   72.080827  50.061772  4.923269e+08\n",
       "3   37        0  119.089215  49.830899  4.108793e+08\n",
       "4  171        0  236.168382  49.892981  7.445059e+07"
      ]
     },
     "execution_count": 5,
     "metadata": {},
     "output_type": "execute_result"
    }
   ],
   "source": [
    "import pandas as pd\n",
    "df = pd.read_csv('ExampleDatasets/Ecoli/Ecoli_pos.csv')\n",
    "df.head()"
   ]
  },
  {
   "cell_type": "code",
   "execution_count": 6,
   "id": "abe0262f",
   "metadata": {},
   "outputs": [
    {
     "data": {
      "text/plain": [
       "1976"
      ]
     },
     "execution_count": 6,
     "metadata": {},
     "output_type": "execute_result"
    }
   ],
   "source": [
    "len(df.index)"
   ]
  },
  {
   "cell_type": "code",
   "execution_count": 7,
   "id": "398c0689",
   "metadata": {},
   "outputs": [],
   "source": [
    "from ipaPy2 import ipa\n",
    "DB=pd.read_csv('DB/IPA_MS1.csv')\n",
    "adducts = pd.read_csv('DB/adducts.csv')"
   ]
  },
  {
   "cell_type": "markdown",
   "id": "933ce887",
   "metadata": {},
   "source": [
    "Here I need to update the database!"
   ]
  },
  {
   "cell_type": "code",
   "execution_count": null,
   "id": "9cc68470",
   "metadata": {},
   "outputs": [
    {
     "name": "stdout",
     "output_type": "stream",
     "text": [
      "mapping isotope patterns ....\n",
      "11.3 seconds elapsed\n",
      "computing all adducts - Parallelized ....\n",
      "98.4 seconds elapsed\n",
      "annotating based on MS1 information - Parallelized ...\n",
      "54.2 seconds elapsed\n",
      "computing all possible biochemical connections\n",
      "considering the reactions stored in the database ...\n"
     ]
    }
   ],
   "source": [
    "annotations = ipa.simpleIPA(df=df,ionisation=1,DB=DB,adductsAll=adducts,ppm=3,\n",
    "                            delta_add=0.1,delta_bio=0.1,burn=10,noits=100,ncores=5)"
   ]
  },
  {
   "cell_type": "code",
   "execution_count": null,
   "id": "2ea3a9db",
   "metadata": {},
   "outputs": [],
   "source": [
    "annotations[1]"
   ]
  },
  {
   "cell_type": "markdown",
   "id": "25a6f0a3",
   "metadata": {},
   "source": [
    "## Negative dataset"
   ]
  },
  {
   "cell_type": "code",
   "execution_count": 3,
   "id": "1fdaa83c",
   "metadata": {},
   "outputs": [
    {
     "data": {
      "text/html": [
       "<div>\n",
       "<style scoped>\n",
       "    .dataframe tbody tr th:only-of-type {\n",
       "        vertical-align: middle;\n",
       "    }\n",
       "\n",
       "    .dataframe tbody tr th {\n",
       "        vertical-align: top;\n",
       "    }\n",
       "\n",
       "    .dataframe thead th {\n",
       "        text-align: right;\n",
       "    }\n",
       "</style>\n",
       "<table border=\"1\" class=\"dataframe\">\n",
       "  <thead>\n",
       "    <tr style=\"text-align: right;\">\n",
       "      <th></th>\n",
       "      <th>ids</th>\n",
       "      <th>rel.ids</th>\n",
       "      <th>mzs</th>\n",
       "      <th>RTs</th>\n",
       "      <th>Int</th>\n",
       "    </tr>\n",
       "  </thead>\n",
       "  <tbody>\n",
       "    <tr>\n",
       "      <th>0</th>\n",
       "      <td>1</td>\n",
       "      <td>0</td>\n",
       "      <td>191.018617</td>\n",
       "      <td>56.672309</td>\n",
       "      <td>1.790060e+09</td>\n",
       "    </tr>\n",
       "    <tr>\n",
       "      <th>1</th>\n",
       "      <td>14</td>\n",
       "      <td>0</td>\n",
       "      <td>192.021784</td>\n",
       "      <td>56.628663</td>\n",
       "      <td>1.244214e+08</td>\n",
       "    </tr>\n",
       "    <tr>\n",
       "      <th>2</th>\n",
       "      <td>30</td>\n",
       "      <td>0</td>\n",
       "      <td>111.007146</td>\n",
       "      <td>56.776775</td>\n",
       "      <td>7.138570e+07</td>\n",
       "    </tr>\n",
       "    <tr>\n",
       "      <th>3</th>\n",
       "      <td>75</td>\n",
       "      <td>0</td>\n",
       "      <td>193.022430</td>\n",
       "      <td>56.636817</td>\n",
       "      <td>2.568980e+07</td>\n",
       "    </tr>\n",
       "    <tr>\n",
       "      <th>4</th>\n",
       "      <td>177</td>\n",
       "      <td>0</td>\n",
       "      <td>405.027847</td>\n",
       "      <td>56.930517</td>\n",
       "      <td>1.097692e+07</td>\n",
       "    </tr>\n",
       "  </tbody>\n",
       "</table>\n",
       "</div>"
      ],
      "text/plain": [
       "   ids  rel.ids         mzs        RTs           Int\n",
       "0    1        0  191.018617  56.672309  1.790060e+09\n",
       "1   14        0  192.021784  56.628663  1.244214e+08\n",
       "2   30        0  111.007146  56.776775  7.138570e+07\n",
       "3   75        0  193.022430  56.636817  2.568980e+07\n",
       "4  177        0  405.027847  56.930517  1.097692e+07"
      ]
     },
     "execution_count": 3,
     "metadata": {},
     "output_type": "execute_result"
    }
   ],
   "source": [
    "df = pd.read_csv('ExampleDatasets/Ecoli/Ecoli_neg.csv')\n",
    "df.head()"
   ]
  },
  {
   "cell_type": "code",
   "execution_count": 4,
   "id": "1c1501cd",
   "metadata": {},
   "outputs": [
    {
     "data": {
      "text/plain": [
       "2775"
      ]
     },
     "execution_count": 4,
     "metadata": {},
     "output_type": "execute_result"
    }
   ],
   "source": [
    "len(df.index)"
   ]
  },
  {
   "cell_type": "code",
   "execution_count": null,
   "id": "25b32df2",
   "metadata": {},
   "outputs": [],
   "source": [
    "annotations = ipa.simpleIPA(df=df,ionisation=-1,DB=DB,adductsAll=adducts,ppm=3,\n",
    "                            delta_add=0.1,delta_bio=0.1,burn=10,noits=100,ncores=5)"
   ]
  },
  {
   "cell_type": "code",
   "execution_count": null,
   "id": "c1217019",
   "metadata": {},
   "outputs": [],
   "source": [
    "annotations[1]"
   ]
  }
 ],
 "metadata": {
  "kernelspec": {
   "display_name": "Python 3 (ipykernel)",
   "language": "python",
   "name": "python3"
  },
  "language_info": {
   "codemirror_mode": {
    "name": "ipython",
    "version": 3
   },
   "file_extension": ".py",
   "mimetype": "text/x-python",
   "name": "python",
   "nbconvert_exporter": "python",
   "pygments_lexer": "ipython3",
   "version": "3.9.12"
  }
 },
 "nbformat": 4,
 "nbformat_minor": 5
}
