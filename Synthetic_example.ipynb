{
 "cells": [
  {
   "cell_type": "markdown",
   "id": "f532f593",
   "metadata": {},
   "source": [
    "# Synthetic example\n",
    "\n",
    "In this notebook, we show the usage the new implementaiton of the IPA method with the simulated dataset dataset introduced with the previous version of the method ([Del Carratore et al., 2019](https://pubs.acs.org/doi/full/10.1021/acs.analchem.9b02354)).\n",
    "The synthetic experiment was built by considering 15 compounds involved in the mevalonate pathway and limonene synthesis (compounds highlighted in blue in the figure below).\n",
    "![Mevalonate](ExampleDatasets/Synthetic/mevalonate_pathway.jpeg)\n",
    "Several Adducts and isotopes were simulated for each of the considered metabolites, both in negative and positive mode, consistently with the relative concentrations shown int he table below. A detailed description of how the simulated datasets can be found in the original paper ([Del Carratore et al., 2019](https://pubs.acs.org/doi/full/10.1021/acs.analchem.9b02354)).\n",
    " \n"
   ]
  },
  {
   "cell_type": "code",
   "execution_count": 1,
   "id": "f73aae9e",
   "metadata": {},
   "outputs": [
    {
     "data": {
      "text/html": [
       "<div>\n",
       "<style scoped>\n",
       "    .dataframe tbody tr th:only-of-type {\n",
       "        vertical-align: middle;\n",
       "    }\n",
       "\n",
       "    .dataframe tbody tr th {\n",
       "        vertical-align: top;\n",
       "    }\n",
       "\n",
       "    .dataframe thead th {\n",
       "        text-align: right;\n",
       "    }\n",
       "</style>\n",
       "<table border=\"1\" class=\"dataframe\">\n",
       "  <thead>\n",
       "    <tr style=\"text-align: right;\">\n",
       "      <th></th>\n",
       "      <th>id</th>\n",
       "      <th>name</th>\n",
       "      <th>Formula</th>\n",
       "      <th>RT</th>\n",
       "      <th>Relative Concentration</th>\n",
       "    </tr>\n",
       "  </thead>\n",
       "  <tbody>\n",
       "    <tr>\n",
       "      <th>0</th>\n",
       "      <td>C00024</td>\n",
       "      <td>Acetyl-CoA</td>\n",
       "      <td>C23H38N7O17P3S1</td>\n",
       "      <td>60</td>\n",
       "      <td>19.1</td>\n",
       "    </tr>\n",
       "    <tr>\n",
       "      <th>1</th>\n",
       "      <td>C00332</td>\n",
       "      <td>Acetoacetyl-CoA</td>\n",
       "      <td>C25H40N7O18P3S</td>\n",
       "      <td>75</td>\n",
       "      <td>95.7</td>\n",
       "    </tr>\n",
       "    <tr>\n",
       "      <th>2</th>\n",
       "      <td>C00010</td>\n",
       "      <td>Coenzyme A</td>\n",
       "      <td>C21H36N7O16P3S</td>\n",
       "      <td>300</td>\n",
       "      <td>24.9</td>\n",
       "    </tr>\n",
       "    <tr>\n",
       "      <th>3</th>\n",
       "      <td>C00356</td>\n",
       "      <td>3-Hydroxy-3-methylglutaryl-CoA</td>\n",
       "      <td>C27H44N7O20P3S</td>\n",
       "      <td>120</td>\n",
       "      <td>36.8</td>\n",
       "    </tr>\n",
       "    <tr>\n",
       "      <th>4</th>\n",
       "      <td>C00005</td>\n",
       "      <td>NADPH</td>\n",
       "      <td>C21H30N7O17P3</td>\n",
       "      <td>200</td>\n",
       "      <td>76.1</td>\n",
       "    </tr>\n",
       "    <tr>\n",
       "      <th>5</th>\n",
       "      <td>C00006</td>\n",
       "      <td>NADP</td>\n",
       "      <td>C21H29N7O17P3</td>\n",
       "      <td>150</td>\n",
       "      <td>77.8</td>\n",
       "    </tr>\n",
       "    <tr>\n",
       "      <th>6</th>\n",
       "      <td>C00418</td>\n",
       "      <td>Mevalonic acid</td>\n",
       "      <td>C6H12O4</td>\n",
       "      <td>250</td>\n",
       "      <td>34.9</td>\n",
       "    </tr>\n",
       "    <tr>\n",
       "      <th>7</th>\n",
       "      <td>C00002</td>\n",
       "      <td>ATP</td>\n",
       "      <td>C10H16N5O13P3</td>\n",
       "      <td>210</td>\n",
       "      <td>6.7</td>\n",
       "    </tr>\n",
       "    <tr>\n",
       "      <th>8</th>\n",
       "      <td>C00008</td>\n",
       "      <td>ADP</td>\n",
       "      <td>C10H15N5O10P2</td>\n",
       "      <td>211</td>\n",
       "      <td>9.8</td>\n",
       "    </tr>\n",
       "    <tr>\n",
       "      <th>9</th>\n",
       "      <td>C01107</td>\n",
       "      <td>Mevalonic acid-5P</td>\n",
       "      <td>C6H13O7P</td>\n",
       "      <td>310</td>\n",
       "      <td>35.8</td>\n",
       "    </tr>\n",
       "    <tr>\n",
       "      <th>10</th>\n",
       "      <td>C01143</td>\n",
       "      <td>(R)-Mevalonic acid-5-pyrophosphate</td>\n",
       "      <td>C6H14O10P2</td>\n",
       "      <td>710</td>\n",
       "      <td>71.3</td>\n",
       "    </tr>\n",
       "    <tr>\n",
       "      <th>11</th>\n",
       "      <td>C00129</td>\n",
       "      <td>Isopentenyl pyrophosphate</td>\n",
       "      <td>C5H12O7P2</td>\n",
       "      <td>630</td>\n",
       "      <td>44.2</td>\n",
       "    </tr>\n",
       "    <tr>\n",
       "      <th>12</th>\n",
       "      <td>C00235</td>\n",
       "      <td>Dimethylallylpyrophosphate</td>\n",
       "      <td>C5H12O7P2</td>\n",
       "      <td>515</td>\n",
       "      <td>49.3</td>\n",
       "    </tr>\n",
       "    <tr>\n",
       "      <th>13</th>\n",
       "      <td>HMDB0032291</td>\n",
       "      <td>Geranyl 2-methylbutyrate</td>\n",
       "      <td>C15H26O2</td>\n",
       "      <td>410</td>\n",
       "      <td>24.5</td>\n",
       "    </tr>\n",
       "    <tr>\n",
       "      <th>14</th>\n",
       "      <td>C00521</td>\n",
       "      <td>D-Limonene</td>\n",
       "      <td>C10H16</td>\n",
       "      <td>480</td>\n",
       "      <td>74.8</td>\n",
       "    </tr>\n",
       "  </tbody>\n",
       "</table>\n",
       "</div>"
      ],
      "text/plain": [
       "             id                                name          Formula   RT  \\\n",
       "0        C00024                          Acetyl-CoA  C23H38N7O17P3S1   60   \n",
       "1        C00332                     Acetoacetyl-CoA   C25H40N7O18P3S   75   \n",
       "2        C00010                          Coenzyme A   C21H36N7O16P3S  300   \n",
       "3        C00356      3-Hydroxy-3-methylglutaryl-CoA   C27H44N7O20P3S  120   \n",
       "4        C00005                               NADPH    C21H30N7O17P3  200   \n",
       "5        C00006                                NADP    C21H29N7O17P3  150   \n",
       "6        C00418                      Mevalonic acid          C6H12O4  250   \n",
       "7        C00002                                 ATP    C10H16N5O13P3  210   \n",
       "8        C00008                                 ADP    C10H15N5O10P2  211   \n",
       "9        C01107                   Mevalonic acid-5P         C6H13O7P  310   \n",
       "10       C01143  (R)-Mevalonic acid-5-pyrophosphate       C6H14O10P2  710   \n",
       "11       C00129           Isopentenyl pyrophosphate        C5H12O7P2  630   \n",
       "12       C00235          Dimethylallylpyrophosphate        C5H12O7P2  515   \n",
       "13  HMDB0032291            Geranyl 2-methylbutyrate         C15H26O2  410   \n",
       "14       C00521                          D-Limonene           C10H16  480   \n",
       "\n",
       "    Relative Concentration  \n",
       "0                     19.1  \n",
       "1                     95.7  \n",
       "2                     24.9  \n",
       "3                     36.8  \n",
       "4                     76.1  \n",
       "5                     77.8  \n",
       "6                     34.9  \n",
       "7                      6.7  \n",
       "8                      9.8  \n",
       "9                     35.8  \n",
       "10                    71.3  \n",
       "11                    44.2  \n",
       "12                    49.3  \n",
       "13                    24.5  \n",
       "14                    74.8  "
      ]
     },
     "execution_count": 1,
     "metadata": {},
     "output_type": "execute_result"
    }
   ],
   "source": [
    "import pandas as pd\n",
    "\n",
    "compounds = pd.read_csv('ExampleDatasets/Synthetic/synthetic_compounds_info.csv')\n",
    "compounds"
   ]
  },
  {
   "cell_type": "markdown",
   "id": "dd97f099",
   "metadata": {},
   "source": [
    "## Positive mode\n",
    "The dataset generated in positive mode contains 83 mass spectrometry features and it can be found in the .csv file shown below."
   ]
  },
  {
   "cell_type": "code",
   "execution_count": 2,
   "id": "1b2d7fa5",
   "metadata": {},
   "outputs": [
    {
     "data": {
      "text/html": [
       "<div>\n",
       "<style scoped>\n",
       "    .dataframe tbody tr th:only-of-type {\n",
       "        vertical-align: middle;\n",
       "    }\n",
       "\n",
       "    .dataframe tbody tr th {\n",
       "        vertical-align: top;\n",
       "    }\n",
       "\n",
       "    .dataframe thead th {\n",
       "        text-align: right;\n",
       "    }\n",
       "</style>\n",
       "<table border=\"1\" class=\"dataframe\">\n",
       "  <thead>\n",
       "    <tr style=\"text-align: right;\">\n",
       "      <th></th>\n",
       "      <th>ids</th>\n",
       "      <th>rel.ids</th>\n",
       "      <th>mzs</th>\n",
       "      <th>RTs</th>\n",
       "      <th>Int</th>\n",
       "      <th>Compound ID</th>\n",
       "      <th>Formula</th>\n",
       "      <th>Adduct</th>\n",
       "      <th>isotope</th>\n",
       "      <th>charge</th>\n",
       "    </tr>\n",
       "  </thead>\n",
       "  <tbody>\n",
       "    <tr>\n",
       "      <th>0</th>\n",
       "      <td>1</td>\n",
       "      <td>0</td>\n",
       "      <td>810.133740</td>\n",
       "      <td>60.534708</td>\n",
       "      <td>19.100000</td>\n",
       "      <td>C00024</td>\n",
       "      <td>C23H39N7O17P3S1</td>\n",
       "      <td>M+H</td>\n",
       "      <td>mono</td>\n",
       "      <td>1</td>\n",
       "    </tr>\n",
       "    <tr>\n",
       "      <th>1</th>\n",
       "      <td>2</td>\n",
       "      <td>0</td>\n",
       "      <td>832.115830</td>\n",
       "      <td>61.629705</td>\n",
       "      <td>9.000503</td>\n",
       "      <td>C00024</td>\n",
       "      <td>C23H38N7O17P3S1Na1</td>\n",
       "      <td>M+Na</td>\n",
       "      <td>mono</td>\n",
       "      <td>1</td>\n",
       "    </tr>\n",
       "    <tr>\n",
       "      <th>2</th>\n",
       "      <td>3</td>\n",
       "      <td>0</td>\n",
       "      <td>405.571155</td>\n",
       "      <td>60.727202</td>\n",
       "      <td>16.601507</td>\n",
       "      <td>C00024</td>\n",
       "      <td>C23H40N7O17P3S1</td>\n",
       "      <td>M+2H</td>\n",
       "      <td>mono</td>\n",
       "      <td>2</td>\n",
       "    </tr>\n",
       "    <tr>\n",
       "      <th>3</th>\n",
       "      <td>4</td>\n",
       "      <td>0</td>\n",
       "      <td>1619.258146</td>\n",
       "      <td>60.988866</td>\n",
       "      <td>9.287749</td>\n",
       "      <td>C00024</td>\n",
       "      <td>C46H77N14O34P6S2</td>\n",
       "      <td>2M+H</td>\n",
       "      <td>mono</td>\n",
       "      <td>1</td>\n",
       "    </tr>\n",
       "    <tr>\n",
       "      <th>4</th>\n",
       "      <td>5</td>\n",
       "      <td>1</td>\n",
       "      <td>852.144271</td>\n",
       "      <td>75.607828</td>\n",
       "      <td>95.700000</td>\n",
       "      <td>C00332</td>\n",
       "      <td>C25H41N7O18P3S1</td>\n",
       "      <td>M+H</td>\n",
       "      <td>mono</td>\n",
       "      <td>1</td>\n",
       "    </tr>\n",
       "  </tbody>\n",
       "</table>\n",
       "</div>"
      ],
      "text/plain": [
       "   ids  rel.ids          mzs        RTs        Int Compound ID  \\\n",
       "0    1        0   810.133740  60.534708  19.100000      C00024   \n",
       "1    2        0   832.115830  61.629705   9.000503      C00024   \n",
       "2    3        0   405.571155  60.727202  16.601507      C00024   \n",
       "3    4        0  1619.258146  60.988866   9.287749      C00024   \n",
       "4    5        1   852.144271  75.607828  95.700000      C00332   \n",
       "\n",
       "              Formula Adduct isotope  charge  \n",
       "0     C23H39N7O17P3S1    M+H    mono       1  \n",
       "1  C23H38N7O17P3S1Na1   M+Na    mono       1  \n",
       "2     C23H40N7O17P3S1   M+2H    mono       2  \n",
       "3    C46H77N14O34P6S2   2M+H    mono       1  \n",
       "4     C25H41N7O18P3S1    M+H    mono       1  "
      ]
     },
     "execution_count": 2,
     "metadata": {},
     "output_type": "execute_result"
    }
   ],
   "source": [
    "df_all = pd.read_csv('ExampleDatasets/Synthetic/positive_synth_dataset.csv')\n",
    "df_all.head()"
   ]
  },
  {
   "cell_type": "markdown",
   "id": "9155f17b",
   "metadata": {},
   "source": [
    "The .csv file also containes the correct annotation for each feature. To use the IPA method, a dataframe only containg the necessary information is required."
   ]
  },
  {
   "cell_type": "code",
   "execution_count": 3,
   "id": "2d807c0e",
   "metadata": {},
   "outputs": [
    {
     "data": {
      "text/html": [
       "<div>\n",
       "<style scoped>\n",
       "    .dataframe tbody tr th:only-of-type {\n",
       "        vertical-align: middle;\n",
       "    }\n",
       "\n",
       "    .dataframe tbody tr th {\n",
       "        vertical-align: top;\n",
       "    }\n",
       "\n",
       "    .dataframe thead th {\n",
       "        text-align: right;\n",
       "    }\n",
       "</style>\n",
       "<table border=\"1\" class=\"dataframe\">\n",
       "  <thead>\n",
       "    <tr style=\"text-align: right;\">\n",
       "      <th></th>\n",
       "      <th>ids</th>\n",
       "      <th>rel.ids</th>\n",
       "      <th>mzs</th>\n",
       "      <th>RTs</th>\n",
       "      <th>Int</th>\n",
       "    </tr>\n",
       "  </thead>\n",
       "  <tbody>\n",
       "    <tr>\n",
       "      <th>0</th>\n",
       "      <td>1</td>\n",
       "      <td>0</td>\n",
       "      <td>810.133740</td>\n",
       "      <td>60.534708</td>\n",
       "      <td>19.100000</td>\n",
       "    </tr>\n",
       "    <tr>\n",
       "      <th>1</th>\n",
       "      <td>2</td>\n",
       "      <td>0</td>\n",
       "      <td>832.115830</td>\n",
       "      <td>61.629705</td>\n",
       "      <td>9.000503</td>\n",
       "    </tr>\n",
       "    <tr>\n",
       "      <th>2</th>\n",
       "      <td>3</td>\n",
       "      <td>0</td>\n",
       "      <td>405.571155</td>\n",
       "      <td>60.727202</td>\n",
       "      <td>16.601507</td>\n",
       "    </tr>\n",
       "    <tr>\n",
       "      <th>3</th>\n",
       "      <td>4</td>\n",
       "      <td>0</td>\n",
       "      <td>1619.258146</td>\n",
       "      <td>60.988866</td>\n",
       "      <td>9.287749</td>\n",
       "    </tr>\n",
       "    <tr>\n",
       "      <th>4</th>\n",
       "      <td>5</td>\n",
       "      <td>1</td>\n",
       "      <td>852.144271</td>\n",
       "      <td>75.607828</td>\n",
       "      <td>95.700000</td>\n",
       "    </tr>\n",
       "  </tbody>\n",
       "</table>\n",
       "</div>"
      ],
      "text/plain": [
       "   ids  rel.ids          mzs        RTs        Int\n",
       "0    1        0   810.133740  60.534708  19.100000\n",
       "1    2        0   832.115830  61.629705   9.000503\n",
       "2    3        0   405.571155  60.727202  16.601507\n",
       "3    4        0  1619.258146  60.988866   9.287749\n",
       "4    5        1   852.144271  75.607828  95.700000"
      ]
     },
     "execution_count": 3,
     "metadata": {},
     "output_type": "execute_result"
    }
   ],
   "source": [
    "df = df_all.copy()\n",
    "df=df.drop(['Compound ID', 'Formula','Adduct','isotope','charge'], axis=1)\n",
    "df.head()"
   ]
  },
  {
   "cell_type": "markdown",
   "id": "4d9453f6",
   "metadata": {},
   "source": [
    "We also need to import the ipaPy2 module and the necessary database."
   ]
  },
  {
   "cell_type": "code",
   "execution_count": 4,
   "id": "62583956",
   "metadata": {},
   "outputs": [],
   "source": [
    "from ipaPy2 import ipa\n",
    "DB=pd.read_csv('DB/IPA_MS1.csv')\n",
    "adducts = pd.read_csv('DB/adducts.csv')"
   ]
  },
  {
   "cell_type": "markdown",
   "id": "32fabd03",
   "metadata": {},
   "source": [
    "At this point, the whole IPA pipeline can be run with the simpleIPA() function.\n",
    "It should be noticed that in this notebook 5 cores are used for the analysis. The user should be very carefull with the ncores parameter, which should be chosen considering the hardware used."
   ]
  },
  {
   "cell_type": "code",
   "execution_count": 5,
   "id": "37b156e3",
   "metadata": {},
   "outputs": [
    {
     "name": "stdout",
     "output_type": "stream",
     "text": [
      "mapping isotope patterns ....\n",
      "0.2 seconds elapsed\n",
      "computing all adducts - Parallelized ....\n",
      "35.0 seconds elapsed\n",
      "annotating based on MS1 information - Parallelized ...\n",
      "4.1 seconds elapsed\n",
      "computing all possible biochemical connections - Parallelized\n",
      "considering the reactions stored in the database ...\n",
      "11.9 seconds elapsed\n",
      "computing posterior probabilities including biochemical and adducts connections\n",
      "initialising sampler ...\n"
     ]
    },
    {
     "name": "stderr",
     "output_type": "stream",
     "text": [
      "Gibbs Sampler Progress Bar: 100%|██████████| 5000/5000 [02:48<00:00, 29.60it/s]\n"
     ]
    },
    {
     "name": "stdout",
     "output_type": "stream",
     "text": [
      "parsing results ...\n",
      "Done -  169.1 seconds elapsed\n"
     ]
    }
   ],
   "source": [
    "annotations = ipa.simpleIPA(df=df,ionisation=1,DB=DB,adductsAll=adducts,ppm=15,\n",
    "                            delta_add=0.1,delta_bio=0.1,burn=1000,noits=5000,ncores=5)"
   ]
  },
  {
   "cell_type": "markdown",
   "id": "b259473f",
   "metadata": {},
   "source": [
    "Similarly to what shown in the original paper, having the correct annotations for each mass spectrometry feature, we can use the Logarithmic Predictive Score (LPS) to evaluate the performance of the method.\n",
    "The LPS score is computed as follows:\n",
    "\n",
    "$LPS = \\sum \\limits _{i=0} ^{M} p_{i} $\n",
    "\n",
    "where $p_i$ is the probability assigned to the correct annotation for the $i^{th}$ feature.\n",
    "In the best case scenario the LPS score is euqual to zero. In all other cases LPS is a negative value.\n",
    "\n",
    "In the code below, the prior and posterior proabilities assigned to the correct annotations are extracted from the IPA output."
   ]
  },
  {
   "cell_type": "code",
   "execution_count": 6,
   "id": "dff4e900",
   "metadata": {},
   "outputs": [],
   "source": [
    "prior = []\n",
    "post = []\n",
    "postGibbs = []\n",
    "p_Chisq = []\n",
    "for k in range(0,len(df_all.index)):\n",
    "    key = df_all['ids'][k]\n",
    "    if(key in list(annotations.keys())):        \n",
    "        tmp = annotations[key]\n",
    "        GT = df_all['Compound ID'][k]\n",
    "        prior.append(list(tmp[tmp['id']==GT]['prior'])[0])\n",
    "        post.append(list(tmp[tmp['id']==GT]['post'])[0])\n",
    "        postGibbs.append(list(tmp[tmp['id']==GT]['post Gibbs'])[0])\n",
    "        p_Chisq.append(list(tmp[tmp['id']==GT]['chi-square pval'])[0])\n",
    "    else:\n",
    "        prior.append(None)\n",
    "        post.append(None)\n",
    "        postGibbs.append(None)\n",
    "        p_Chisq.append(None)\n",
    "\n",
    "df_res= df_all.copy()\n",
    "df_res['prior'] = prior\n",
    "df_res['post'] = post\n",
    "df_res['post Gibbs'] = postGibbs\n",
    "df_res['chi-square pval'] = p_Chisq\n",
    "\n",
    "df_res=df_res[df_res['isotope']=='mono']\n",
    "df_res=df_res.drop(['isotope', 'charge'], axis=1)"
   ]
  },
  {
   "cell_type": "markdown",
   "id": "89e52d80",
   "metadata": {},
   "source": [
    "The LPS score associated with the prior probability is computed below:"
   ]
  },
  {
   "cell_type": "code",
   "execution_count": 7,
   "id": "ae46d24e",
   "metadata": {},
   "outputs": [
    {
     "data": {
      "text/plain": [
       "-41.17109981829767"
      ]
     },
     "execution_count": 7,
     "metadata": {},
     "output_type": "execute_result"
    }
   ],
   "source": [
    "import numpy as np\n",
    "np.sum(np.log10(df_res['prior']))"
   ]
  },
  {
   "cell_type": "markdown",
   "id": "a928468d",
   "metadata": {},
   "source": [
    "The LPS score associated with the posterior probability, shown below, is significantly higher."
   ]
  },
  {
   "cell_type": "code",
   "execution_count": 8,
   "id": "b2dad6d6",
   "metadata": {},
   "outputs": [
    {
     "data": {
      "text/plain": [
       "-31.87944546560881"
      ]
     },
     "execution_count": 8,
     "metadata": {},
     "output_type": "execute_result"
    }
   ],
   "source": [
    "np.sum(np.log10(df_res['post Gibbs']))"
   ]
  },
  {
   "cell_type": "markdown",
   "id": "45a336c8",
   "metadata": {},
   "source": [
    "It must be mentioned that this scores are not directly comparable with the ones computed with the old implementation of the IPA method."
   ]
  },
  {
   "cell_type": "markdown",
   "id": "e01bb124",
   "metadata": {},
   "source": [
    "# Negative mode\n",
    "The dataset generated in negative mode contains 95 mass spectrometry features and it can be found in the .csv file shown below."
   ]
  },
  {
   "cell_type": "code",
   "execution_count": 9,
   "id": "374cd6d7",
   "metadata": {},
   "outputs": [
    {
     "data": {
      "text/html": [
       "<div>\n",
       "<style scoped>\n",
       "    .dataframe tbody tr th:only-of-type {\n",
       "        vertical-align: middle;\n",
       "    }\n",
       "\n",
       "    .dataframe tbody tr th {\n",
       "        vertical-align: top;\n",
       "    }\n",
       "\n",
       "    .dataframe thead th {\n",
       "        text-align: right;\n",
       "    }\n",
       "</style>\n",
       "<table border=\"1\" class=\"dataframe\">\n",
       "  <thead>\n",
       "    <tr style=\"text-align: right;\">\n",
       "      <th></th>\n",
       "      <th>ids</th>\n",
       "      <th>rel.ids</th>\n",
       "      <th>mzs</th>\n",
       "      <th>RTs</th>\n",
       "      <th>Int</th>\n",
       "      <th>Compound ID</th>\n",
       "      <th>Formula</th>\n",
       "      <th>Adduct</th>\n",
       "      <th>isotope</th>\n",
       "      <th>charge</th>\n",
       "    </tr>\n",
       "  </thead>\n",
       "  <tbody>\n",
       "    <tr>\n",
       "      <th>0</th>\n",
       "      <td>1</td>\n",
       "      <td>0</td>\n",
       "      <td>808.117931</td>\n",
       "      <td>60.168864</td>\n",
       "      <td>15.454966</td>\n",
       "      <td>C00024</td>\n",
       "      <td>C23H37N7O17P3S1</td>\n",
       "      <td>M-H</td>\n",
       "      <td>mono</td>\n",
       "      <td>-1</td>\n",
       "    </tr>\n",
       "    <tr>\n",
       "      <th>1</th>\n",
       "      <td>2</td>\n",
       "      <td>0</td>\n",
       "      <td>1617.244072</td>\n",
       "      <td>59.832483</td>\n",
       "      <td>16.612324</td>\n",
       "      <td>C00024</td>\n",
       "      <td>C46H75N14O34P6S2</td>\n",
       "      <td>2M-H</td>\n",
       "      <td>mono</td>\n",
       "      <td>-1</td>\n",
       "    </tr>\n",
       "    <tr>\n",
       "      <th>2</th>\n",
       "      <td>3</td>\n",
       "      <td>0</td>\n",
       "      <td>1618.246019</td>\n",
       "      <td>61.852075</td>\n",
       "      <td>8.265022</td>\n",
       "      <td>C00024</td>\n",
       "      <td>C45[13]C1H75N14O34P6S2</td>\n",
       "      <td>2M-H</td>\n",
       "      <td>iso</td>\n",
       "      <td>-1</td>\n",
       "    </tr>\n",
       "    <tr>\n",
       "      <th>3</th>\n",
       "      <td>4</td>\n",
       "      <td>0</td>\n",
       "      <td>403.554946</td>\n",
       "      <td>60.069536</td>\n",
       "      <td>5.311077</td>\n",
       "      <td>C00024</td>\n",
       "      <td>C23H36N7O17P3S1</td>\n",
       "      <td>M-2H</td>\n",
       "      <td>mono</td>\n",
       "      <td>-2</td>\n",
       "    </tr>\n",
       "    <tr>\n",
       "      <th>4</th>\n",
       "      <td>5</td>\n",
       "      <td>0</td>\n",
       "      <td>2426.368968</td>\n",
       "      <td>58.812628</td>\n",
       "      <td>13.085050</td>\n",
       "      <td>C00024</td>\n",
       "      <td>C69H113N21O51P9S3</td>\n",
       "      <td>3M-H</td>\n",
       "      <td>mono</td>\n",
       "      <td>-1</td>\n",
       "    </tr>\n",
       "  </tbody>\n",
       "</table>\n",
       "</div>"
      ],
      "text/plain": [
       "   ids  rel.ids          mzs        RTs        Int Compound ID  \\\n",
       "0    1        0   808.117931  60.168864  15.454966      C00024   \n",
       "1    2        0  1617.244072  59.832483  16.612324      C00024   \n",
       "2    3        0  1618.246019  61.852075   8.265022      C00024   \n",
       "3    4        0   403.554946  60.069536   5.311077      C00024   \n",
       "4    5        0  2426.368968  58.812628  13.085050      C00024   \n",
       "\n",
       "                  Formula Adduct isotope  charge  \n",
       "0         C23H37N7O17P3S1    M-H    mono      -1  \n",
       "1        C46H75N14O34P6S2   2M-H    mono      -1  \n",
       "2  C45[13]C1H75N14O34P6S2   2M-H     iso      -1  \n",
       "3         C23H36N7O17P3S1   M-2H    mono      -2  \n",
       "4       C69H113N21O51P9S3   3M-H    mono      -1  "
      ]
     },
     "execution_count": 9,
     "metadata": {},
     "output_type": "execute_result"
    }
   ],
   "source": [
    "df_all = pd.read_csv('ExampleDatasets/Synthetic/negative_synth_dataset.csv')\n",
    "df_all.head()"
   ]
  },
  {
   "cell_type": "markdown",
   "id": "86208d7b",
   "metadata": {},
   "source": [
    "Repeating the same steps done for the positive dataset, we can run the IPA method."
   ]
  },
  {
   "cell_type": "code",
   "execution_count": 10,
   "id": "5b37fcc8",
   "metadata": {},
   "outputs": [],
   "source": [
    "df = df_all.copy()\n",
    "df=df.drop(['Compound ID', 'Formula','Adduct','isotope','charge'], axis=1)"
   ]
  },
  {
   "cell_type": "code",
   "execution_count": 11,
   "id": "2b57307d",
   "metadata": {},
   "outputs": [
    {
     "name": "stdout",
     "output_type": "stream",
     "text": [
      "mapping isotope patterns ....\n",
      "0.2 seconds elapsed\n",
      "computing all adducts - Parallelized ....\n",
      "154.2 seconds elapsed\n",
      "annotating based on MS1 information - Parallelized ...\n",
      "4.8 seconds elapsed\n",
      "computing all possible biochemical connections - Parallelized\n",
      "considering the reactions stored in the database ...\n",
      "13.4 seconds elapsed\n",
      "computing posterior probabilities including biochemical and adducts connections\n",
      "initialising sampler ...\n"
     ]
    },
    {
     "name": "stderr",
     "output_type": "stream",
     "text": [
      "Gibbs Sampler Progress Bar: 100%|██████████| 5000/5000 [02:52<00:00, 28.98it/s]\n"
     ]
    },
    {
     "name": "stdout",
     "output_type": "stream",
     "text": [
      "parsing results ...\n",
      "Done -  172.7 seconds elapsed\n"
     ]
    }
   ],
   "source": [
    "annotations = ipa.simpleIPA(df=df,ionisation=-1,DB=DB,adductsAll=adducts,ppm=15,\n",
    "                            delta_add=0.1,delta_bio=0.1,burn=1000,noits=5000,ncores=5)"
   ]
  },
  {
   "cell_type": "markdown",
   "id": "51ae1015",
   "metadata": {},
   "source": [
    "Also in this case we can compute the LPS scores"
   ]
  },
  {
   "cell_type": "code",
   "execution_count": 12,
   "id": "7c8424e2",
   "metadata": {},
   "outputs": [],
   "source": [
    "prior = []\n",
    "post = []\n",
    "postGibbs = []\n",
    "p_Chisq = []\n",
    "for k in range(0,len(df_all.index)):\n",
    "    key = df_all['ids'][k]\n",
    "    if(key in list(annotations.keys())):        \n",
    "        tmp = annotations[key]\n",
    "        GT = df_all['Compound ID'][k]\n",
    "        prior.append(list(tmp[tmp['id']==GT]['prior'])[0])\n",
    "        post.append(list(tmp[tmp['id']==GT]['post'])[0])\n",
    "        postGibbs.append(list(tmp[tmp['id']==GT]['post Gibbs'])[0])\n",
    "        p_Chisq.append(list(tmp[tmp['id']==GT]['chi-square pval'])[0])\n",
    "    else:\n",
    "        prior.append(None)\n",
    "        post.append(None)\n",
    "        postGibbs.append(None)\n",
    "        p_Chisq.append(None)\n",
    "\n",
    "df_res= df_all.copy()\n",
    "df_res['prior'] = prior\n",
    "df_res['post'] = post\n",
    "df_res['post Gibbs'] = postGibbs\n",
    "df_res['chi-square pval'] = p_Chisq\n",
    "\n",
    "df_res=df_res[df_res['isotope']=='mono']\n",
    "df_res=df_res.drop(['isotope', 'charge'], axis=1)"
   ]
  },
  {
   "cell_type": "code",
   "execution_count": 13,
   "id": "890ec8e3",
   "metadata": {},
   "outputs": [
    {
     "data": {
      "text/plain": [
       "-40.15436067911171"
      ]
     },
     "execution_count": 13,
     "metadata": {},
     "output_type": "execute_result"
    }
   ],
   "source": [
    "np.sum(np.log10(df_res['prior']))"
   ]
  },
  {
   "cell_type": "code",
   "execution_count": 14,
   "id": "5d7838a9",
   "metadata": {},
   "outputs": [
    {
     "data": {
      "text/plain": [
       "-32.04465455654571"
      ]
     },
     "execution_count": 14,
     "metadata": {},
     "output_type": "execute_result"
    }
   ],
   "source": [
    "np.sum(np.log10(df_res['post Gibbs']))"
   ]
  }
 ],
 "metadata": {
  "kernelspec": {
   "display_name": "Python 3",
   "language": "python",
   "name": "python3"
  },
  "language_info": {
   "codemirror_mode": {
    "name": "ipython",
    "version": 3
   },
   "file_extension": ".py",
   "mimetype": "text/x-python",
   "name": "python",
   "nbconvert_exporter": "python",
   "pygments_lexer": "ipython3",
   "version": "3.9.13"
  }
 },
 "nbformat": 4,
 "nbformat_minor": 5
}
